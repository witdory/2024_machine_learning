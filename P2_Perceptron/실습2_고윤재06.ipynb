{
 "cells": [
  {
   "cell_type": "markdown",
   "metadata": {},
   "source": [
    "# [SWCON25301] Machine Learning\n",
    "Teaching Assistant: Suyong Bahk (clapd10@khu.ac.kr)\n",
    "\n",
    "Professor: Hui Yong Kim (hykim.v@khu.ac.kr)"
   ]
  },
  {
   "cell_type": "markdown",
   "metadata": {},
   "source": [
    "---"
   ]
  },
  {
   "cell_type": "markdown",
   "metadata": {},
   "source": [
    "# P2:  NumPy를 이용한 Perceptron 구현 (10점)\n",
    "\n",
    "### 학습목표\n",
    "- Perceptron Python class를 직접 구현하면서 NN의 작동방법을 이해한다.\n",
    "- 머신러닝 모델의 데이터 준비, 개발, 학습, 검증, 시각화 과정을 이해하고 설명 할 수 있다.\n",
    "\n",
    "### 실습내용\n",
    "Frank Rosenblatt의 classic perceptron binary classication(0 또는 1을 구분하는)을 구현합니다. <br>\n",
    "\n",
    "실습은 다음 순서로 진행됩니다. 학생분들께서는 **<구현>**과 **<작성>**에 해당하는 부분을 수행해주시면 됩니다.\n",
    "\n",
    "- S1. Perceptron 구현 및 분석\n",
    "    - 1) 실습에서 사용되는 패키지 import\n",
    "    - 2) 주어진 데이터셋 loading\n",
    "    - 3) Perceptron Model 구현 **<구현>**\n",
    "    - 4) Perceptron Model 학습\n",
    "    - 5) Perceptron Model 검증\n",
    "    - 6) Decision Boundary 시각화\n",
    "\n",
    "<br>\n",
    "\n",
    "- S2. Discussion **<작성>**\n",
    "\n",
    "### 점수\n",
    "- Perceptron model 구현: 각 함수별로 2점\n",
    "\n",
    "\n",
    "### 제출방법\n",
    "- .ipynb 파일과 함께 .html 파일 (File -> export as -> HTML)도 함께 제출하세요. 하나만 제출할시 감점이 있습니다."
   ]
  },
  {
   "cell_type": "markdown",
   "metadata": {},
   "source": [
    "## S1.  Perceptron 구현 및 분석"
   ]
  },
  {
   "cell_type": "markdown",
   "metadata": {},
   "source": [
    "## 1-1) Imports\n",
    "**수정하지 마세요.**"
   ]
  },
  {
   "cell_type": "code",
   "execution_count": 1,
   "metadata": {
    "tags": []
   },
   "outputs": [],
   "source": [
    "import matplotlib.pyplot as plt\n",
    "import numpy as np\n",
    "%matplotlib inline"
   ]
  },
  {
   "cell_type": "markdown",
   "metadata": {},
   "source": [
    "## 1-2) Loading the Dataset\n",
    "**수정하지 마세요.** \n",
    "\n",
    "코드를 실행시켜 실습코드와 같이 첨부된 dataset.csv파일을 로드합니다.\n",
    "\n",
    "두 개의 class(0, 1)를 갖는 2차원 데이터이며, class0은 -1의 값을 가지고 class1은 1의 값을 가집니다."
   ]
  },
  {
   "cell_type": "code",
   "execution_count": 2,
   "metadata": {
    "tags": []
   },
   "outputs": [
    {
     "name": "stdout",
     "output_type": "stream",
     "text": [
      "100 100\n",
      "[-1, -1, -1, -1, -1, -1, -1, -1, -1, -1, -1, -1, -1, -1, -1, -1, -1, -1, -1, -1, -1, -1, -1, -1, -1, -1, -1, -1, -1, -1, -1, -1, -1, -1, -1, -1, -1, -1, -1, -1, -1, -1, -1, -1, -1, -1, -1, -1, -1, -1, 1, 1, 1, 1, 1, 1, 1, 1, 1, 1, 1, 1, 1, 1, 1, 1, 1, 1, 1, 1, 1, 1, 1, 1, 1, 1, 1, 1, 1, 1, 1, 1, 1, 1, 1, 1, 1, 1, 1, 1, 1, 1, 1, 1, 1, 1, 1, 1, 1, 1]\n"
     ]
    }
   ],
   "source": [
    "# CSV 파일을 읽기\n",
    "X, y = [], []\n",
    "\n",
    "with open(\"./dataset.csv\", \"r\") as f:\n",
    "    next(f)\n",
    "    classes = [-1, 1]\n",
    "    for line in f:\n",
    "        line = line.strip()\n",
    "        if line:\n",
    "            values = line.split(\",\")\n",
    "        else:\n",
    "            continue\n",
    "        X.append([float(i) for i in values[:2]])\n",
    "        #         y.append(int(values[-1])\n",
    "        y.append(classes[int(values[-1])])\n",
    "\n",
    "print(len(X), len(y))\n",
    "print(y)\n"
   ]
  },
  {
   "cell_type": "markdown",
   "metadata": {},
   "source": [
    "### Dataset Split & Visualization\n",
    "\n",
    "**수정하지 마세요.** \n",
    "\n",
    "Load 된 데이터셋을 모델 학습과 검증을 위해 Trainset과 Testset으로 랜덤 샘플링하여 나누고 데이터셋이 어떤 분포로 생겼는지 시각화하여 살펴봅니다."
   ]
  },
  {
   "cell_type": "code",
   "execution_count": 3,
   "metadata": {
    "tags": []
   },
   "outputs": [],
   "source": [
    "import random\n",
    "\n",
    "\n",
    "# 랜덤시드 설정\n",
    "random.seed(123)\n",
    "\n",
    "# 데이터 랜덤 셔플\n",
    "idx = list(range(len(X)))\n",
    "random.shuffle(idx)\n",
    "\n",
    "# 앞 80개 까지는 학습용으로 뒤 20개는 테스트용으로 split\n",
    "X_train = [X[i] for i in idx[:80]]\n",
    "y_train = [y[i] for i in idx[:80]]\n",
    "X_test = [X[i] for i in idx[80:]]\n",
    "y_test = [y[i] for i in idx[80:]]"
   ]
  },
  {
   "cell_type": "code",
   "execution_count": 4,
   "metadata": {
    "tags": []
   },
   "outputs": [
    {
     "data": {
      "image/png": "[encoded data removed]",
      "text/plain": [
       "<Figure size 640x480 with 1 Axes>"
      ]
     },
     "metadata": {},
     "output_type": "display_data"
    }
   ],
   "source": [
    "# 클래스 별로 데이터를 시각화 하여 분포를 살펴보기\n",
    "plt.scatter(\n",
    "    [i[0] for idx, i in enumerate(X_train) if y_train[idx] == -1],\n",
    "    [i[1] for idx, i in enumerate(X_train) if y_train[idx] == -1],\n",
    "    label=\"class 0\",\n",
    "    marker=\"o\",\n",
    ")\n",
    "\n",
    "plt.scatter(\n",
    "    [i[0] for idx, i in enumerate(X_train) if y_train[idx] == 1],\n",
    "    [i[1] for idx, i in enumerate(X_train) if y_train[idx] == 1],\n",
    "    label=\"class 1\",\n",
    "    marker=\"s\",\n",
    ")\n",
    "\n",
    "plt.title(\"Training set\")\n",
    "plt.xlabel(\"feature 1\")\n",
    "plt.ylabel(\"feature 2\")\n",
    "plt.xlim([0.0, 7])\n",
    "plt.ylim([-0.8, 0.8])\n",
    "plt.legend()\n",
    "plt.show()"
   ]
  },
  {
   "cell_type": "markdown",
   "metadata": {},
   "source": [
    "## 1-3) Perceptron model 구현\n",
    "이 부분에서는 직접 `Perceptron model`을 구현해 봅니다.\n",
    "\n",
    "Perceptron model은 생성자, forward, backward, train, evaluation 다섯개 함수로 이루어져 있습니다.\n",
    "- `__init__` 생성자에서는 Perceptron의 weights와 bias를 초기화합니다.\n",
    "- `forward`에서는 input을 Perceptron의 가중치를 이용해서 예측을 수행합니다.\n",
    "- `backward`에서는 Perceptron의 가중치를 학습하기 위한 gradient를 계산합니다.\n",
    "- `train`에서는 Perceptron을 학습하는 과정으로 `forward`와 `backward`를 차례로 반복하여 Perceptron의 가중치를 업데이트 합니다.\n",
    "- `evaluation`에서는 들어온 input data를 학습된 가중치를 이용하여 예측하고 결과를 반환합니다. **(주의: Accuracy 계산)**\n",
    "\n",
    "아래 `# <your code>` 부분을 채워 넣어서 Perceptron class를 직접 작성하여 구현하세요.\n",
    "\n",
    "**세부 구현 사항:**\n",
    "- weights는 랜덤으로 초기화, bias는 0으로 초기화한다.\n",
    "- activation function은 입력값을 기준으로 `0 초과는 1, 0 이하는 -1`을 출력하게 한다.\n",
    "- 주의: <U>**Cost Function은 MSE 또는 Cross-Entropy가 아닌 $J(w) = -y(w^Tx)$를 사용**</U>한다. , $x\\in Y$는 **틀린 샘플의 집합** "
   ]
  },
  {
   "cell_type": "markdown",
   "metadata": {},
   "source": [
    "#### Perceptron\n",
    "![Perceptron](https://www.researchgate.net/profile/Daniel-Alvarez-34/publication/315788933/figure/fig3/AS:479799241121795@1491404461957/Scheme-of-a-perceptron-A-nonlinear-activation-function-BULLET-is-applied-to-the.png)\n",
    "출처: https://www.researchgate.net/figure/Scheme-of-a-perceptron-A-nonlinear-activation-function-BULLET-is-applied-to-the_fig3_315788933"
   ]
  },
  {
   "cell_type": "code",
   "execution_count": 5,
   "metadata": {
    "tags": []
   },
   "outputs": [],
   "source": [
    "class Perceptron:\n",
    "    def __init__(self, num_features, learning_rate=0.1, batch_size=1):\n",
    "        self.batch_size = batch_size\n",
    "        self.weights = np.random.rand(\n",
    "            num_features,\n",
    "        )\n",
    "        self.bias = 0\n",
    "        self.lr = learning_rate\n",
    "\n",
    "    def shuffle_datasets(self, a, b):\n",
    "        assert len(a) == len(b)\n",
    "        p = np.random.permutation(len(a))\n",
    "        return a[p], b[p]\n",
    "\n",
    "    # 모델의 출력을 반환하는 함수\n",
    "    def forward(self, x):\n",
    "        # np.matmul을 이용하면 weight와 batched feature의 linear combination을 병렬적으로 계산할 수 있습니다.\n",
    "        # 예를 들어, [배치 크기, weight 갯수]의 차원을 갖는 x와 [weight 갯수, 1] 차원을 갖는 weight의\n",
    "        # linear combination을 구한다고 가정합시다.\n",
    "        # 이 때, x와 weight의 행렬곱 np.matmul(x, weight)은 [배치 크기, 1] 차원 만큼의 linear combination이 됩니다.\n",
    "        # linear_combinations = # <your code>\n",
    "        linear_combinations = np.matmul(x, self.weights) + self.bias\n",
    "\n",
    "        # Activation function을 np.where를 이용하여 구현할 수 있습니다.\n",
    "        # np.where(statement, 배열 내 statement가 참인 부분의 출력, 배열 내 statement가 거짓인 부분의 출력)\n",
    "        # pred = # <your code>\n",
    "        pred = np.where(linear_combinations > 0, 1, -1)\n",
    "        return pred\n",
    "\n",
    "    def calc_loss_and_gradient(self, x, pred, label):\n",
    "        # loss = # <your code>\n",
    "        loss = -(label * (np.matmul(x, self.weights) + self.bias))\n",
    "        # Hint : 스칼라 * 배열은 배열의 스칼라배를 반환합니다.\n",
    "        # gradient_weight =  # <your code>\n",
    "        gradient_weight = -label * x\n",
    "        # gradient_bias =  # <your code>\n",
    "        gradient_bias = -label\n",
    "\n",
    "        return loss, gradient_weight, gradient_bias\n",
    "        \n",
    "\n",
    "    def update_parameters(self, gradient_weight, gradient_bias):\n",
    "        \n",
    "        # self.weights -=  # <your code>\n",
    "        self.weights -= self.lr * gradient_weight\n",
    "        # self.bias -=  # <your code>\n",
    "        self.bias -= self.lr * gradient_bias\n",
    "\n",
    "    def calc_accuracy(self, x, y):\n",
    "        pred = self.forward(x)\n",
    "        # 정답이면 True, 오답이면 False를 출력하는 array 생성\n",
    "        correct_predictions = pred == y\n",
    "        # True 갯수 계산\n",
    "        counts_true = np.count_nonzero(correct_predictions)\n",
    "        total_nums = np.size(pred)\n",
    "        return counts_true / total_nums * 100\n",
    "\n",
    "    def fit(self, x_train, y_train, epochs):\n",
    "        x_arr = np.array(x_train)\n",
    "        y_arr = np.array(y_train)\n",
    "\n",
    "        # epochs 만큼 학습\n",
    "        for e in range(epochs):\n",
    "            x, y = self.shuffle_datasets(x_arr, y_arr)\n",
    "\n",
    "            # 배치 크기씩 data 분할\n",
    "            num_batches = len(x) // self.batch_size\n",
    "\n",
    "            # batch size 크기의 배수가 아닌 나머지 training example 개수\n",
    "            remain = len(x) % self.batch_size\n",
    "\n",
    "            x = x[remain:]  # remain을 제외한 training example만 사용\n",
    "            y = y[remain:]\n",
    "            x = np.array_split(x, num_batches)  # 배치 크기씩 데이터 분할\n",
    "            y = np.array_split(y, num_batches)\n",
    "\n",
    "            # 각 배치마다 파라미터 업데이트\n",
    "            for batch_x_y in zip(x, y):  # 배치 하나씩 학습\n",
    "                batch_x, batch_y = batch_x_y\n",
    "\n",
    "                pred = self.forward(batch_x)\n",
    "\n",
    "                # 오답인 샘플만을 학습에 사용하기 위해, 정답이면 True, 오답이면 False를 출력하는 array 생성\n",
    "                wrong_predictions = pred != batch_y\n",
    "                num_wrong_predictions = np.count_nonzero(wrong_predictions)\n",
    "                skip_this_batch = num_wrong_predictions == 0\n",
    "\n",
    "                if skip_this_batch:\n",
    "                    continue\n",
    "\n",
    "                # 틀린 샘플들만 필터링\n",
    "                pred = pred[wrong_predictions]\n",
    "                batch_x = batch_x[wrong_predictions]\n",
    "                batch_y = batch_y[wrong_predictions]\n",
    "\n",
    "                for i in range(num_wrong_predictions):\n",
    "                    loss, gradient_weight, gradient_bias = self.calc_loss_and_gradient(\n",
    "                        batch_x[i], pred[i], batch_y[i]\n",
    "                    )\n",
    "                    # parameter update는 backward pass로도 불림\n",
    "                    self.update_parameters(gradient_weight, gradient_bias)\n",
    "\n",
    "            print(\n",
    "                f\"Epoch {e} train accuracy : {self.calc_accuracy(x_train, y_train):.2f}%\"\n",
    "            )\n",
    "            if self.calc_accuracy(x_train, y_train) == 100:\n",
    "                print(\"Stopped training.\")\n",
    "                break"
   ]
  },
  {
   "cell_type": "markdown",
   "metadata": {},
   "source": [
    "**Q. 강의 내용과 연관지어 본인이 작성한 코드의 내용을 설명하세요. (미 작성시 과제 점수 감점)**  \n",
    "\n",
    "(여기에 답안 작성)\n",
    "\n",
    "np.matmul을 통해 x와 가중치의 행렬곱을 구해주었고, bias는 따로 더해주었습니다. \n",
    "\n",
    "np.where(linear_combinations > 0, 1, -1) statement가 참, 거짓이냐에 따라 참이면 1, 거짓이면 -1이 들어가도록 하였습니다.\n",
    "\n",
    "loss = -(label * (np.matmul(x, self.weights) + self.bias))은 손실함수 𝐽(𝑤)=−𝑦(𝑤𝑇𝑥)를 그대로 작성한것으로 linear_combination값을 그대로 집어넣어 -y값 * 가중치 * x의 식을 통해 구현해주었습니다. \n",
    "gradient_weight 는 손실함수를 가중치에 대해 편미분한 값인데, 이게 -y*x로 표현될 수 있습니다. 같은 방식으로 gradient_bias는 -y가 나오게 됩니다. \n",
    "\n",
    "self.weights -= self.lr * gradient_weight\n",
    "self.bias -= self.lr * gradient_bias 는 학습률 * 기울기를 곱해줌으로써 가중치와 편향을 업데이트해주는 코드입니다. "
   ]
  },
  {
   "cell_type": "markdown",
   "metadata": {},
   "source": [
    "## 1-4) Perceptron 학습\n",
    "\n",
    "작성한 Perceptron을 Trainset을 이용해 **최대** 5 epoch 학습하고 학습된 weight, bias를 print합니다."
   ]
  },
  {
   "cell_type": "code",
   "execution_count": 6,
   "metadata": {
    "tags": []
   },
   "outputs": [
    {
     "name": "stdout",
     "output_type": "stream",
     "text": [
      "Epoch 0 train accuracy : 98.75%\n",
      "Epoch 1 train accuracy : 100.00%\n",
      "Stopped training.\n",
      "[ 0.48128013 -0.00874966]\n",
      "-0.9999999999999999\n"
     ]
    }
   ],
   "source": [
    "ppn = Perceptron(\n",
    "    num_features=2, learning_rate=0.1, batch_size=4\n",
    ")  # 위에서 구현한 Perceptron 모델 정의\n",
    "ppn.fit(X_train, y_train, 5)  # 최대 5 epoch 학습\n",
    "\n",
    "# 학습된 모델의 weight, bias 출력\n",
    "print(ppn.weights)\n",
    "print(ppn.bias)"
   ]
  },
  {
   "cell_type": "markdown",
   "metadata": {},
   "source": [
    "## 1-5) 모델 평가\n",
    "Training set과 Test set각각에서 모델의 accuracy를 계산합니다."
   ]
  },
  {
   "cell_type": "code",
   "execution_count": 7,
   "metadata": {
    "tags": []
   },
   "outputs": [
    {
     "name": "stdout",
     "output_type": "stream",
     "text": [
      "Train set accuracy: 100.00%\n"
     ]
    }
   ],
   "source": [
    "# Train dataset에서 성능 평가\n",
    "train_acc = ppn.calc_accuracy(X_train, y_train)\n",
    "print(\"Train set accuracy: %.2f%%\" % (train_acc))"
   ]
  },
  {
   "cell_type": "code",
   "execution_count": 8,
   "metadata": {
    "tags": []
   },
   "outputs": [
    {
     "name": "stdout",
     "output_type": "stream",
     "text": [
      "Test set accuracy: 100.00%\n"
     ]
    }
   ],
   "source": [
    "# Test dataset에서 성능 평가\n",
    "test_acc = ppn.calc_accuracy(X_test, y_test)\n",
    "print(\"Test set accuracy: %.2f%%\" % (test_acc))"
   ]
  },
  {
   "cell_type": "markdown",
   "metadata": {},
   "source": [
    "## 1-6) Decision Boundary\n",
    "train 데이터셋과 test 데이터셋 각각을 이용하여 2개의 scatter plot을 그리고 그 위에 학습된 가중치를 이용하여 결정경계를 시각화합니다."
   ]
  },
  {
   "cell_type": "code",
   "execution_count": 9,
   "metadata": {
    "tags": []
   },
   "outputs": [
    {
     "data": {
      "image/png": "[encoded data removed]",
      "text/plain": [
       "<Figure size 640x480 with 1 Axes>"
      ]
     },
     "metadata": {},
     "output_type": "display_data"
    },
    {
     "data": {
      "image/png": "[encoded data removed]",
      "text/plain": [
       "<Figure size 640x480 with 1 Axes>"
      ]
     },
     "metadata": {},
     "output_type": "display_data"
    }
   ],
   "source": [
    "### Train 데이터셋에서 Decision Boundary 시각화\n",
    "# 그래프로 표현\n",
    "plt.scatter(\n",
    "    [i[0] for idx, i in enumerate(X_train) if y_train[idx] == -1],\n",
    "    [i[1] for idx, i in enumerate(X_train) if y_train[idx] == -1],\n",
    "    label=\"class 0\",\n",
    "    marker=\"o\",\n",
    ")\n",
    "plt.scatter(\n",
    "    [i[0] for idx, i in enumerate(X_train) if y_train[idx] == 1],\n",
    "    [i[1] for idx, i in enumerate(X_train) if y_train[idx] == 1],\n",
    "    label=\"class 1\",\n",
    "    marker=\"s\",\n",
    ")\n",
    "# Perscptron의 Weight와 Bias를 그래프로 표현\n",
    "plt.plot(\n",
    "    [0, 7],\n",
    "    [-ppn.bias / ppn.weights[1], -(7 * ppn.weights[0] + ppn.bias) / ppn.weights[1]],\n",
    ")\n",
    "\n",
    "# 그래프로 표현\n",
    "plt.title(\"Training set\")\n",
    "plt.xlabel(\"feature 1\")\n",
    "plt.ylabel(\"feature 2\")\n",
    "plt.xlim([0.0, 7])\n",
    "plt.ylim([-0.8, 0.8])\n",
    "plt.legend()\n",
    "plt.show()\n",
    "\n",
    "### Test 데이터셋에서 Decision Boundary 시각화\n",
    "# 그래프로 표현\n",
    "plt.scatter(\n",
    "    [i[0] for idx, i in enumerate(X_test) if y_test[idx] == -1],\n",
    "    [i[1] for idx, i in enumerate(X_test) if y_test[idx] == -1],\n",
    "    label=\"class 0\",\n",
    "    marker=\"o\",\n",
    ")\n",
    "\n",
    "plt.scatter(\n",
    "    [i[0] for idx, i in enumerate(X_test) if y_test[idx] == 1],\n",
    "    [i[1] for idx, i in enumerate(X_test) if y_test[idx] == 1],\n",
    "    label=\"class 1\",\n",
    "    marker=\"s\",\n",
    ")\n",
    "# Perscptron의 Weight와 Bias를 그래프로 표현\n",
    "plt.plot(\n",
    "    [0, 7],\n",
    "    [-ppn.bias / ppn.weights[1], -(7 * ppn.weights[0] + ppn.bias) / ppn.weights[1]],\n",
    ")\n",
    "\n",
    "# 그래프로 표현\n",
    "plt.title(\"Test set\")\n",
    "plt.xlabel(\"feature 1\")\n",
    "plt.ylabel(\"feature 2\")\n",
    "plt.xlim([0.0, 7])\n",
    "plt.ylim([-0.8, 0.8])\n",
    "plt.legend()\n",
    "plt.show()"
   ]
  },
  {
   "cell_type": "markdown",
   "metadata": {},
   "source": [
    "## S2. Discussion\n",
    "\n",
    "**1) 예시에서 사용된 activat\n",
    "ion 함수 이외의 어떤 함수가 있는지 찾아보고 설명해보세요.**"
   ]
  },
  {
   "cell_type": "markdown",
   "metadata": {},
   "source": [
    "[답변작성]\n",
    "\n",
    "시그모이드 함수 : 선의 기울기가 매끄럽기 때문에 계단함수보다 데이터를 잘 보존할 수 있다. 하지만 층이 많아질수록 기울기가 소실되어 가중치가 갱신되지 않을 수 있다. \n",
    "\n",
    "하이퍼볼릭 탄젠트 함수 : 시그모이드 함수의 중심의 y값이 0이 되도록 한 함수로, 시그모이드 함수와 마찬가지로 기울기 소실 문제가 있다. \n",
    "\n",
    "렐루 함수 : 입력값이 양수일때는 선형함수에 값을 대입하고, 아닐 경우 0을 출력하는 함수이다. 기울기 소실 문제가 발생하지 않음. "
   ]
  },
  {
   "cell_type": "markdown",
   "metadata": {},
   "source": [
    "**2) Perceptron 하나로 풀 수 없는 문제는 어떤것이 있는지 왜 그런지 설명해보세요.**"
   ]
  },
  {
   "cell_type": "markdown",
   "metadata": {},
   "source": [
    "[답변작성]\n",
    "\n",
    "퍼셉트론은 선형분류기이기 때문에 하나의 직선으로 분류할 수 없는 경우에는 문제를 풀 수가 없다. \n",
    "대표적으로 XOR문제가 있는데, 직선 두개로 결과를 분류할 수 있기 때문에 퍼셉트론이 두개가 된다면 풀 수 있지만 퍼셉트론 한개로는 풀 수 없다. "
   ]
  },
  {
   "cell_type": "markdown",
   "metadata": {},
   "source": [
    "---"
   ]
  }
 ],
 "metadata": {
  "kernelspec": {
   "display_name": "Python 3 (ipykernel)",
   "language": "python",
   "name": "python3"
  },
  "language_info": {
   "codemirror_mode": {
    "name": "ipython",
    "version": 3
   },
   "file_extension": ".py",
   "mimetype": "text/x-python",
   "name": "python",
   "nbconvert_exporter": "python",
   "pygments_lexer": "ipython3",
   "version": "3.11.4"
  }
 },
 "nbformat": 4,
 "nbformat_minor": 4
}
